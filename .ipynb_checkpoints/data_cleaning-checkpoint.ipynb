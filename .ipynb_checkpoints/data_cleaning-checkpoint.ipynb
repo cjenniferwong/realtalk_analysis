{
 "cells": [
  {
   "cell_type": "markdown",
   "metadata": {},
   "source": [
    "# Real Talk\n",
    "\n",
    "Cleaning data and doing EDA for initial Product Analysis and scoping potential projects"
   ]
  },
  {
   "cell_type": "code",
   "execution_count": 1,
   "metadata": {
    "ExecuteTime": {
     "end_time": "2020-04-12T04:54:43.690605Z",
     "start_time": "2020-04-12T04:54:42.827865Z"
    }
   },
   "outputs": [],
   "source": [
    "import pandas as pd\n",
    "import numpy as np\n",
    "import matplotlib.pyplot as plt\n",
    "%matplotlib inline\n",
    "import seaborn as sns\n",
    "\n",
    "from glob import glob\n",
    "\n",
    "# used to grab data from local machine\n",
    "# data_files = glob('')"
   ]
  },
  {
   "cell_type": "code",
   "execution_count": 2,
   "metadata": {
    "ExecuteTime": {
     "end_time": "2020-04-12T04:54:43.772607Z",
     "start_time": "2020-04-12T04:54:43.696978Z"
    }
   },
   "outputs": [
    {
     "data": {
      "text/html": [
       "<div>\n",
       "<style scoped>\n",
       "    .dataframe tbody tr th:only-of-type {\n",
       "        vertical-align: middle;\n",
       "    }\n",
       "\n",
       "    .dataframe tbody tr th {\n",
       "        vertical-align: top;\n",
       "    }\n",
       "\n",
       "    .dataframe thead th {\n",
       "        text-align: right;\n",
       "    }\n",
       "</style>\n",
       "<table border=\"1\" class=\"dataframe\">\n",
       "  <thead>\n",
       "    <tr style=\"text-align: right;\">\n",
       "      <th></th>\n",
       "      <th>story_id</th>\n",
       "      <th>perspective</th>\n",
       "      <th>age</th>\n",
       "      <th>lgbtq</th>\n",
       "      <th>race</th>\n",
       "      <th>phone</th>\n",
       "      <th>topic</th>\n",
       "      <th>title</th>\n",
       "      <th>lede</th>\n",
       "      <th>published_at</th>\n",
       "      <th>...</th>\n",
       "      <th>cringey</th>\n",
       "      <th>haha</th>\n",
       "      <th>me_too</th>\n",
       "      <th>interesting</th>\n",
       "      <th>story_texts</th>\n",
       "      <th>link_url</th>\n",
       "      <th>link_photo_url</th>\n",
       "      <th>link_title</th>\n",
       "      <th>link_site_name</th>\n",
       "      <th>link_body</th>\n",
       "    </tr>\n",
       "  </thead>\n",
       "  <tbody>\n",
       "    <tr>\n",
       "      <td>0</td>\n",
       "      <td>2269</td>\n",
       "      <td>female</td>\n",
       "      <td>19.0</td>\n",
       "      <td>no</td>\n",
       "      <td>white</td>\n",
       "      <td>870</td>\n",
       "      <td>relationships</td>\n",
       "      <td>NaN</td>\n",
       "      <td>NaN</td>\n",
       "      <td>NaN</td>\n",
       "      <td>...</td>\n",
       "      <td>0</td>\n",
       "      <td>0</td>\n",
       "      <td>0</td>\n",
       "      <td>0</td>\n",
       "      <td>Well I was in my house and when I asked my eye...</td>\n",
       "      <td>NaN</td>\n",
       "      <td>NaN</td>\n",
       "      <td>NaN</td>\n",
       "      <td>NaN</td>\n",
       "      <td>NaN</td>\n",
       "    </tr>\n",
       "    <tr>\n",
       "      <td>1</td>\n",
       "      <td>2268</td>\n",
       "      <td>female</td>\n",
       "      <td>18.0</td>\n",
       "      <td>no</td>\n",
       "      <td>white</td>\n",
       "      <td>3253073887</td>\n",
       "      <td>bullying</td>\n",
       "      <td>NaN</td>\n",
       "      <td>I just need to work on my confidence</td>\n",
       "      <td>2020-01-06 00:00:00 UTC</td>\n",
       "      <td>...</td>\n",
       "      <td>1</td>\n",
       "      <td>1</td>\n",
       "      <td>1</td>\n",
       "      <td>1</td>\n",
       "      <td>My confident isnt the best. Its not with the w...</td>\n",
       "      <td>https://kidshealth.org/en/teens/self-esteem.html</td>\n",
       "      <td>NaN</td>\n",
       "      <td>How can I improve my self-esteem?</td>\n",
       "      <td>Teens Health</td>\n",
       "      <td>NaN</td>\n",
       "    </tr>\n",
       "    <tr>\n",
       "      <td>2</td>\n",
       "      <td>2267</td>\n",
       "      <td>female</td>\n",
       "      <td>18.0</td>\n",
       "      <td>yes</td>\n",
       "      <td>other</td>\n",
       "      <td>(304) 691-3740</td>\n",
       "      <td>puberty</td>\n",
       "      <td>NaN</td>\n",
       "      <td>NaN</td>\n",
       "      <td>NaN</td>\n",
       "      <td>...</td>\n",
       "      <td>0</td>\n",
       "      <td>0</td>\n",
       "      <td>0</td>\n",
       "      <td>0</td>\n",
       "      <td>His name is Jeffery but we call him jeff💖; I a...</td>\n",
       "      <td>NaN</td>\n",
       "      <td>NaN</td>\n",
       "      <td>NaN</td>\n",
       "      <td>NaN</td>\n",
       "      <td>NaN</td>\n",
       "    </tr>\n",
       "    <tr>\n",
       "      <td>3</td>\n",
       "      <td>2266</td>\n",
       "      <td>female</td>\n",
       "      <td>22.0</td>\n",
       "      <td>yes</td>\n",
       "      <td>white</td>\n",
       "      <td>0575809857</td>\n",
       "      <td>bullying</td>\n",
       "      <td>NaN</td>\n",
       "      <td>NaN</td>\n",
       "      <td>NaN</td>\n",
       "      <td>...</td>\n",
       "      <td>0</td>\n",
       "      <td>0</td>\n",
       "      <td>0</td>\n",
       "      <td>0</td>\n",
       "      <td>The was Robert My boyfriend ; Nothing really. ...</td>\n",
       "      <td>NaN</td>\n",
       "      <td>NaN</td>\n",
       "      <td>NaN</td>\n",
       "      <td>NaN</td>\n",
       "      <td>NaN</td>\n",
       "    </tr>\n",
       "    <tr>\n",
       "      <td>4</td>\n",
       "      <td>2265</td>\n",
       "      <td>female</td>\n",
       "      <td>15.0</td>\n",
       "      <td>yes</td>\n",
       "      <td>Latina</td>\n",
       "      <td>9793642515</td>\n",
       "      <td>puberty</td>\n",
       "      <td>NaN</td>\n",
       "      <td>NaN</td>\n",
       "      <td>NaN</td>\n",
       "      <td>...</td>\n",
       "      <td>0</td>\n",
       "      <td>0</td>\n",
       "      <td>0</td>\n",
       "      <td>0</td>\n",
       "      <td>They were my ex and I still loved him.💘But the...</td>\n",
       "      <td>NaN</td>\n",
       "      <td>NaN</td>\n",
       "      <td>NaN</td>\n",
       "      <td>NaN</td>\n",
       "      <td>NaN</td>\n",
       "    </tr>\n",
       "  </tbody>\n",
       "</table>\n",
       "<p>5 rows × 21 columns</p>\n",
       "</div>"
      ],
      "text/plain": [
       "   story_id perspective   age lgbtq    race           phone          topic  \\\n",
       "0      2269      female  19.0    no   white             870  relationships   \n",
       "1      2268      female  18.0    no   white      3253073887       bullying   \n",
       "2      2267      female  18.0   yes   other  (304) 691-3740        puberty   \n",
       "3      2266      female  22.0   yes   white      0575809857       bullying   \n",
       "4      2265      female  15.0   yes  Latina      9793642515        puberty   \n",
       "\n",
       "  title                                  lede             published_at  ...  \\\n",
       "0   NaN                                   NaN                      NaN  ...   \n",
       "1   NaN  I just need to work on my confidence  2020-01-06 00:00:00 UTC  ...   \n",
       "2   NaN                                   NaN                      NaN  ...   \n",
       "3   NaN                                   NaN                      NaN  ...   \n",
       "4   NaN                                   NaN                      NaN  ...   \n",
       "\n",
       "   cringey  haha  me_too  interesting  \\\n",
       "0        0     0       0            0   \n",
       "1        1     1       1            1   \n",
       "2        0     0       0            0   \n",
       "3        0     0       0            0   \n",
       "4        0     0       0            0   \n",
       "\n",
       "                                         story_texts  \\\n",
       "0  Well I was in my house and when I asked my eye...   \n",
       "1  My confident isnt the best. Its not with the w...   \n",
       "2  His name is Jeffery but we call him jeff💖; I a...   \n",
       "3  The was Robert My boyfriend ; Nothing really. ...   \n",
       "4  They were my ex and I still loved him.💘But the...   \n",
       "\n",
       "                                           link_url link_photo_url  \\\n",
       "0                                               NaN            NaN   \n",
       "1  https://kidshealth.org/en/teens/self-esteem.html            NaN   \n",
       "2                                               NaN            NaN   \n",
       "3                                               NaN            NaN   \n",
       "4                                               NaN            NaN   \n",
       "\n",
       "                          link_title link_site_name link_body  \n",
       "0                                NaN            NaN       NaN  \n",
       "1  How can I improve my self-esteem?   Teens Health       NaN  \n",
       "2                                NaN            NaN       NaN  \n",
       "3                                NaN            NaN       NaN  \n",
       "4                                NaN            NaN       NaN  \n",
       "\n",
       "[5 rows x 21 columns]"
      ]
     },
     "execution_count": 2,
     "metadata": {},
     "output_type": "execute_result"
    }
   ],
   "source": [
    "# loading in data\n",
    "reactions = pd.read_csv(data_files[1])\n",
    "reactions.columns = [column.lower().replace(' ', '_') for column in reactions.columns]\n",
    "reactions.rename(columns={\n",
    "    'id':'reaction_id'\n",
    "    , 'story':'story_id'\n",
    "}, inplace=True)\n",
    "\n",
    "\n",
    "stories = pd.read_csv(data_files[0])\n",
    "stories.columns = [column.lower().replace(' ', '_') for column in stories.columns]\n",
    "stories.rename(columns={\n",
    "    'id':'story_id'\n",
    "}, inplace=True)\n",
    "stories.head()"
   ]
  },
  {
   "cell_type": "code",
   "execution_count": 3,
   "metadata": {
    "ExecuteTime": {
     "end_time": "2020-04-12T04:54:43.809380Z",
     "start_time": "2020-04-12T04:54:43.776695Z"
    }
   },
   "outputs": [
    {
     "data": {
      "text/html": [
       "<div>\n",
       "<style scoped>\n",
       "    .dataframe tbody tr th:only-of-type {\n",
       "        vertical-align: middle;\n",
       "    }\n",
       "\n",
       "    .dataframe tbody tr th {\n",
       "        vertical-align: top;\n",
       "    }\n",
       "\n",
       "    .dataframe thead th {\n",
       "        text-align: right;\n",
       "    }\n",
       "</style>\n",
       "<table border=\"1\" class=\"dataframe\">\n",
       "  <thead>\n",
       "    <tr style=\"text-align: right;\">\n",
       "      <th></th>\n",
       "      <th>reaction_id</th>\n",
       "      <th>story_id</th>\n",
       "      <th>story_text</th>\n",
       "      <th>emoji</th>\n",
       "      <th>created_at</th>\n",
       "    </tr>\n",
       "  </thead>\n",
       "  <tbody>\n",
       "    <tr>\n",
       "      <td>0</td>\n",
       "      <td>9730</td>\n",
       "      <td>2165.0</td>\n",
       "      <td>NaN</td>\n",
       "      <td>❤️</td>\n",
       "      <td>2019-12-30 19:32:18 UTC</td>\n",
       "    </tr>\n",
       "    <tr>\n",
       "      <td>1</td>\n",
       "      <td>9729</td>\n",
       "      <td>2165.0</td>\n",
       "      <td>10786.0</td>\n",
       "      <td>😭</td>\n",
       "      <td>2019-12-30 17:25:38 UTC</td>\n",
       "    </tr>\n",
       "    <tr>\n",
       "      <td>2</td>\n",
       "      <td>9728</td>\n",
       "      <td>1848.0</td>\n",
       "      <td>NaN</td>\n",
       "      <td>❤️</td>\n",
       "      <td>2019-12-30 06:26:23 UTC</td>\n",
       "    </tr>\n",
       "    <tr>\n",
       "      <td>3</td>\n",
       "      <td>9727</td>\n",
       "      <td>390.0</td>\n",
       "      <td>2009.0</td>\n",
       "      <td>❤️</td>\n",
       "      <td>2019-12-29 20:38:12 UTC</td>\n",
       "    </tr>\n",
       "    <tr>\n",
       "      <td>4</td>\n",
       "      <td>9726</td>\n",
       "      <td>2165.0</td>\n",
       "      <td>NaN</td>\n",
       "      <td>👀</td>\n",
       "      <td>2019-12-29 20:33:34 UTC</td>\n",
       "    </tr>\n",
       "  </tbody>\n",
       "</table>\n",
       "</div>"
      ],
      "text/plain": [
       "   reaction_id  story_id  story_text emoji               created_at\n",
       "0         9730    2165.0         NaN    ❤️  2019-12-30 19:32:18 UTC\n",
       "1         9729    2165.0     10786.0     😭  2019-12-30 17:25:38 UTC\n",
       "2         9728    1848.0         NaN    ❤️  2019-12-30 06:26:23 UTC\n",
       "3         9727     390.0      2009.0    ❤️  2019-12-29 20:38:12 UTC\n",
       "4         9726    2165.0         NaN     👀  2019-12-29 20:33:34 UTC"
      ]
     },
     "execution_count": 3,
     "metadata": {},
     "output_type": "execute_result"
    }
   ],
   "source": [
    "reactions.head()"
   ]
  },
  {
   "cell_type": "markdown",
   "metadata": {},
   "source": [
    "## Data Cleaning\n",
    "- grouping emojis together since there seems to be a data integrity issue\n",
    "- binarizing the publishing statistics\n",
    "- converting columns into datetimes where appropriate\n",
    "- joining reactions table to stories table to get story statistics"
   ]
  },
  {
   "cell_type": "code",
   "execution_count": 4,
   "metadata": {
    "ExecuteTime": {
     "end_time": "2020-04-12T04:54:43.850391Z",
     "start_time": "2020-04-12T04:54:43.815415Z"
    }
   },
   "outputs": [
    {
     "data": {
      "text/plain": [
       "✌🏽    3001\n",
       "❤️    2845\n",
       "👀     1597\n",
       "😭     1157\n",
       "😅      819\n",
       "♥️       5\n",
       "✌        3\n",
       "Name: emoji, dtype: int64"
      ]
     },
     "execution_count": 4,
     "metadata": {},
     "output_type": "execute_result"
    }
   ],
   "source": [
    "reactions.emoji.value_counts()"
   ]
  },
  {
   "cell_type": "code",
   "execution_count": 5,
   "metadata": {
    "ExecuteTime": {
     "end_time": "2020-04-12T04:54:43.889227Z",
     "start_time": "2020-04-12T04:54:43.863337Z"
    }
   },
   "outputs": [],
   "source": [
    "reactions.emoji = reactions.emoji.replace('♥️', '❤️')\n",
    "reactions.emoji = reactions.emoji.replace('✌🏽', '✌')"
   ]
  },
  {
   "cell_type": "code",
   "execution_count": 6,
   "metadata": {
    "ExecuteTime": {
     "end_time": "2020-04-12T04:54:43.923821Z",
     "start_time": "2020-04-12T04:54:43.916541Z"
    }
   },
   "outputs": [],
   "source": [
    "stories['is_published'] = stories.published_at.notna()"
   ]
  },
  {
   "cell_type": "code",
   "execution_count": 7,
   "metadata": {
    "ExecuteTime": {
     "end_time": "2020-04-12T04:54:43.975136Z",
     "start_time": "2020-04-12T04:54:43.941724Z"
    },
    "scrolled": true
   },
   "outputs": [],
   "source": [
    "# mapping to stories df to get additional dimensions\n",
    "cleaned_reactions = pd.merge(reactions, stories[['story_id', 'published_at','is_published', 'topic']]\n",
    "                            , left_on='story_id', right_on='story_id', how='left')"
   ]
  },
  {
   "cell_type": "code",
   "execution_count": 8,
   "metadata": {
    "ExecuteTime": {
     "end_time": "2020-04-12T04:54:45.359708Z",
     "start_time": "2020-04-12T04:54:43.988318Z"
    }
   },
   "outputs": [],
   "source": [
    "# changing columns to datetime instead of strings\n",
    "cleaned_reactions['created_at'] = pd.to_datetime(cleaned_reactions['created_at'])\n",
    "cleaned_reactions['published_at'] = pd.to_datetime(cleaned_reactions['published_at'])\n",
    "\n",
    "cleaned_reactions['days_since_published'] = (cleaned_reactions['created_at'] - cleaned_reactions['published_at']).dt.days"
   ]
  },
  {
   "cell_type": "code",
   "execution_count": 9,
   "metadata": {
    "ExecuteTime": {
     "end_time": "2020-04-12T04:54:45.376077Z",
     "start_time": "2020-04-12T04:54:45.361888Z"
    }
   },
   "outputs": [
    {
     "name": "stdout",
     "output_type": "stream",
     "text": [
      "9427\n",
      "9413\n"
     ]
    }
   ],
   "source": [
    "# sanity check\n",
    "print(len(cleaned_reactions))\n",
    "cleaned_reactions.dropna(subset=['story_id'], inplace=True)\n",
    "print(len(cleaned_reactions))"
   ]
  },
  {
   "cell_type": "code",
   "execution_count": 10,
   "metadata": {
    "ExecuteTime": {
     "end_time": "2020-04-12T04:54:45.665336Z",
     "start_time": "2020-04-12T04:54:45.379942Z"
    }
   },
   "outputs": [],
   "source": [
    "# saving to CSV for tableau\n",
    "cleaned_reactions.to_csv('data/cleaned_reactions.csv', index=False)\n",
    "stories.to_csv('data/cleaned_stories.csv', index=True)"
   ]
  }
 ],
 "metadata": {
  "kernelspec": {
   "display_name": "Python 3",
   "language": "python",
   "name": "python3"
  },
  "language_info": {
   "codemirror_mode": {
    "name": "ipython",
    "version": 3
   },
   "file_extension": ".py",
   "mimetype": "text/x-python",
   "name": "python",
   "nbconvert_exporter": "python",
   "pygments_lexer": "ipython3",
   "version": "3.7.4"
  },
  "latex_envs": {
   "LaTeX_envs_menu_present": true,
   "autoclose": false,
   "autocomplete": true,
   "bibliofile": "biblio.bib",
   "cite_by": "apalike",
   "current_citInitial": 1,
   "eqLabelWithNumbers": true,
   "eqNumInitial": 1,
   "hotkeys": {
    "equation": "Ctrl-E",
    "itemize": "Ctrl-I"
   },
   "labels_anchors": false,
   "latex_user_defs": false,
   "report_style_numbering": false,
   "user_envs_cfg": false
  },
  "varInspector": {
   "cols": {
    "lenName": 16,
    "lenType": 16,
    "lenVar": 40
   },
   "kernels_config": {
    "python": {
     "delete_cmd_postfix": "",
     "delete_cmd_prefix": "del ",
     "library": "var_list.py",
     "varRefreshCmd": "print(var_dic_list())"
    },
    "r": {
     "delete_cmd_postfix": ") ",
     "delete_cmd_prefix": "rm(",
     "library": "var_list.r",
     "varRefreshCmd": "cat(var_dic_list()) "
    }
   },
   "types_to_exclude": [
    "module",
    "function",
    "builtin_function_or_method",
    "instance",
    "_Feature"
   ],
   "window_display": false
  }
 },
 "nbformat": 4,
 "nbformat_minor": 2
}
